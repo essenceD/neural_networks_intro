{
 "cells": [
  {
   "cell_type": "markdown",
   "id": "5d919e5f-ddd9-4f91-9271-74bc6a31cfe0",
   "metadata": {},
   "source": [
    "1. обучить рукописную сверточную нейронную сеть (с падением размера ядра свертки и последовательностью блоков свертка-пулинг (conv-pool)-(conv-pool)-...) на датасете cifar-10\n",
    "2. оценить рост точности при увеличении ширины сети (больше фильтров)\n",
    "3. оценить рост точности при увеличении глубины сети (больше слоев)\n",
    "4. *сравнить с точностью полносвязной сети для этой выборки\n"
   ]
  },
  {
   "cell_type": "code",
   "execution_count": 1,
   "id": "2fc5eee8-c405-4324-a16d-5b5c570b0fac",
   "metadata": {},
   "outputs": [],
   "source": [
    "import keras\n",
    "import tensorflow as tf\n",
    "import numpy as np\n",
    "import pandas as pd\n",
    "\n",
    "import matplotlib.pyplot as plt\n",
    "from sklearn.metrics import accuracy_score\n",
    "\n",
    "from keras.datasets import cifar10\n",
    "import ssl\n",
    "ssl._create_default_https_context = ssl._create_unverified_context\n",
    "\n",
    "from keras.utils.np_utils import to_categorical\n",
    "\n",
    "from tensorflow.keras.models import Sequential, Model\n",
    "from tensorflow.keras.layers import  Input, Conv2D, Activation, Dropout, Flatten, Dense\n",
    "from tensorflow.keras.layers import GlobalMaxPooling2D, MaxPooling2D, AveragePooling2D, GlobalAveragePooling2D \n",
    "\n",
    "import warnings\n",
    "warnings.filterwarnings('ignore')"
   ]
  },
  {
   "cell_type": "code",
   "execution_count": 2,
   "id": "31cf2127-f080-4d3a-accc-ed07ec1ccdd2",
   "metadata": {},
   "outputs": [
    {
     "data": {
      "text/plain": [
       "[PhysicalDevice(name='/physical_device:GPU:0', device_type='GPU')]"
      ]
     },
     "execution_count": 2,
     "metadata": {},
     "output_type": "execute_result"
    }
   ],
   "source": [
    "tf.config.list_physical_devices('GPU')"
   ]
  },
  {
   "cell_type": "code",
   "execution_count": 34,
   "id": "6d195d94-d4ea-4777-9d1f-9db0d8e68e07",
   "metadata": {},
   "outputs": [],
   "source": [
    "def build_net(X_train,\n",
    "              X_test,\n",
    "              y_train,\n",
    "              n_neurons: int=512,\n",
    "              n_filters: int=64,\n",
    "              n_layers: int=4,\n",
    "              n_epochs: int=50,\n",
    "              kernel_size: int=3,\n",
    "              dropout: float=0.25, \n",
    "              cnn: bool=True,\n",
    "             ):\n",
    "    \n",
    "    model = Sequential()\n",
    "    tf.random.set_seed(42)\n",
    "    \n",
    "    if cnn:\n",
    "        model.add(Conv2D(n_filters,\n",
    "                         (kernel_size, kernel_size),\n",
    "                         padding='same', \n",
    "                         input_shape=X_train.shape[1:],\n",
    "                         activation='relu'\n",
    "                        )\n",
    "                 )\n",
    "        dif_ks = kernel_size // n_layers\n",
    "        new_kernel_size = kernel_size\n",
    "        \n",
    "        for layer in range(1, n_layers):\n",
    "            \n",
    "            new_kernel_size -= dif_ks \n",
    "            \n",
    "            model.add(Conv2D(n_filters,\n",
    "                             (new_kernel_size, new_kernel_size),\n",
    "                             padding='same', \n",
    "                             input_shape=X_train.shape[1:],\n",
    "                             activation='relu'\n",
    "                            )\n",
    "                     )\n",
    "            if (layer % 2 == 0) and dropout:\n",
    "                model.add(Dropout(dropout))\n",
    "                \n",
    "                model.add(MaxPooling2D(pool_size=(2, 2)))\n",
    "            \n",
    "        model.add(Flatten())\n",
    "        model.add(Dense(n_neurons, activation='relu'))\n",
    "        model.add(Dropout(0.5))\n",
    "        model.add(Dense(y_train.shape[1], activation='softmax'))\n",
    "        \n",
    "        \n",
    "        \n",
    "    else:\n",
    "        model.add(Flatten(input_shape=X_train.shape[1:]))\n",
    "        model.add(Dense(n_neurons,\n",
    "                        activation='sigmoid'\n",
    "                       )\n",
    "                 )\n",
    "        \n",
    "        dif_n = n_neurons // n_layers\n",
    "        next_n = n_neurons\n",
    "        \n",
    "        for layer in range(1, n_layers):\n",
    "            next_n -= dif_n \n",
    "            model.add(Dense(next_n,\n",
    "                            activation='relu'\n",
    "                           )\n",
    "                     )\n",
    "            if dropout and (layer % 2 == 0):\n",
    "                model.add(Dropout(dropout))\n",
    "        \n",
    "            \n",
    "        model.add(Dense(y_train.shape[1], activation='softmax'))     \n",
    "        \n",
    "    \n",
    "    with tf.device(\"GPU:0\"):\n",
    "        model.compile(loss='categorical_crossentropy',\n",
    "                      optimizer='SGD',\n",
    "                      metrics=['accuracy']\n",
    "                     )\n",
    "        train = model.fit(X_train,\n",
    "                          y_train,\n",
    "                          epochs=n_epochs,\n",
    "                          verbose=0,\n",
    "                         )\n",
    "        result = model.predict(X_test)\n",
    "    return [model, train, result]"
   ]
  },
  {
   "cell_type": "code",
   "execution_count": 4,
   "id": "6abb97c1-de29-4a5f-bf32-bc7062e92792",
   "metadata": {},
   "outputs": [],
   "source": [
    "(X_train, y_train), (X_test, y_test) = cifar10.load_data()"
   ]
  },
  {
   "cell_type": "code",
   "execution_count": 5,
   "id": "67c368e9-1ec1-4073-ba4f-1e99ea1a7d54",
   "metadata": {},
   "outputs": [],
   "source": [
    "classes = ['airplane', 'automobile', 'bird', 'cat', 'deer', 'dog', 'frog', 'horse', 'ship', 'truck']"
   ]
  },
  {
   "cell_type": "code",
   "execution_count": 6,
   "id": "1e75dfe5-ef91-4ebe-b84d-98c6d67cfeac",
   "metadata": {},
   "outputs": [
    {
     "name": "stdout",
     "output_type": "stream",
     "text": [
      "Label is \"deer\"\n"
     ]
    },
    {
     "data": {
      "image/png": "[encoded data removed]",
      "text/plain": [
       "<Figure size 432x288 with 1 Axes>"
      ]
     },
     "metadata": {
      "needs_background": "light"
     },
     "output_type": "display_data"
    }
   ],
   "source": [
    "ind = np.random.randint(0, X_train.shape[0])\n",
    "plt.imshow(X_train[ind], cmap='gray')\n",
    "print(f'Label is \"{classes[y_train[ind][0]]}\"')"
   ]
  },
  {
   "cell_type": "code",
   "execution_count": 7,
   "id": "2e026b50-4e07-47f8-b1d7-004afe6d97dc",
   "metadata": {},
   "outputs": [
    {
     "data": {
      "text/plain": [
       "(32, 32, 3)"
      ]
     },
     "execution_count": 7,
     "metadata": {},
     "output_type": "execute_result"
    }
   ],
   "source": [
    "X_train[0].shape"
   ]
  },
  {
   "cell_type": "code",
   "execution_count": 8,
   "id": "e3d7eb27-65d9-4c89-b689-f0e5bb81727d",
   "metadata": {},
   "outputs": [],
   "source": [
    "X_train = X_train / X_train.max()\n",
    "X_test = X_test / X_test.max()"
   ]
  },
  {
   "cell_type": "code",
   "execution_count": 9,
   "id": "ea61bd75-16ad-4fe8-8a5b-def7195ba5b5",
   "metadata": {},
   "outputs": [
    {
     "data": {
      "text/plain": [
       "((50000, 10), (10000, 10))"
      ]
     },
     "execution_count": 9,
     "metadata": {},
     "output_type": "execute_result"
    }
   ],
   "source": [
    "y_train = to_categorical(y_train, len(classes))\n",
    "y_test = to_categorical(y_test, len(classes))\n",
    "\n",
    "y_train.shape, y_test.shape"
   ]
  },
  {
   "cell_type": "code",
   "execution_count": 10,
   "id": "5c018752-33cc-40f5-8519-1922c92b36e6",
   "metadata": {},
   "outputs": [],
   "source": [
    "res = build_net(X_train, X_test, y_train, dropout=0.25)"
   ]
  },
  {
   "cell_type": "code",
   "execution_count": 11,
   "id": "073e1494-8022-42d7-8c31-7ed03629b7b8",
   "metadata": {},
   "outputs": [],
   "source": [
    "compare = pd.DataFrame(columns=['num_filters', 'num_layers', 'train_acc', 'test_acc'])"
   ]
  },
  {
   "cell_type": "code",
   "execution_count": 12,
   "id": "484ed4bf-e49f-460f-8bf4-35e1e6f59775",
   "metadata": {},
   "outputs": [
    {
     "data": {
      "text/html": [
       "<div>\n",
       "<style scoped>\n",
       "    .dataframe tbody tr th:only-of-type {\n",
       "        vertical-align: middle;\n",
       "    }\n",
       "\n",
       "    .dataframe tbody tr th {\n",
       "        vertical-align: top;\n",
       "    }\n",
       "\n",
       "    .dataframe thead th {\n",
       "        text-align: right;\n",
       "    }\n",
       "</style>\n",
       "<table border=\"1\" class=\"dataframe\">\n",
       "  <thead>\n",
       "    <tr style=\"text-align: right;\">\n",
       "      <th></th>\n",
       "      <th>num_filters</th>\n",
       "      <th>num_layers</th>\n",
       "      <th>train_acc</th>\n",
       "      <th>test_acc</th>\n",
       "    </tr>\n",
       "  </thead>\n",
       "  <tbody>\n",
       "    <tr>\n",
       "      <th>0</th>\n",
       "      <td>32.0</td>\n",
       "      <td>9.0</td>\n",
       "      <td>0.9166</td>\n",
       "      <td>0.7938</td>\n",
       "    </tr>\n",
       "  </tbody>\n",
       "</table>\n",
       "</div>"
      ],
      "text/plain": [
       "  num_filters num_layers train_acc test_acc\n",
       "0        32.0        9.0    0.9166   0.7938"
      ]
     },
     "execution_count": 12,
     "metadata": {},
     "output_type": "execute_result"
    }
   ],
   "source": [
    "compare = compare.append({'num_filters': 32,\n",
    "                          'num_layers': len(res[0].layers),\n",
    "                          'train_acc': res[1].history['accuracy'][-1],\n",
    "                          'test_acc': accuracy_score(y_test.argmax(axis=1), res[2].argmax(axis=1)),\n",
    "                         }, ignore_index=True)\n",
    "compare"
   ]
  },
  {
   "cell_type": "code",
   "execution_count": 13,
   "id": "78b77405-d13f-4d7e-8e2c-b7c14131e452",
   "metadata": {},
   "outputs": [
    {
     "data": {
      "text/html": [
       "<div>\n",
       "<style scoped>\n",
       "    .dataframe tbody tr th:only-of-type {\n",
       "        vertical-align: middle;\n",
       "    }\n",
       "\n",
       "    .dataframe tbody tr th {\n",
       "        vertical-align: top;\n",
       "    }\n",
       "\n",
       "    .dataframe thead th {\n",
       "        text-align: right;\n",
       "    }\n",
       "</style>\n",
       "<table border=\"1\" class=\"dataframe\">\n",
       "  <thead>\n",
       "    <tr style=\"text-align: right;\">\n",
       "      <th></th>\n",
       "      <th>num_filters</th>\n",
       "      <th>num_layers</th>\n",
       "      <th>train_acc</th>\n",
       "      <th>test_acc</th>\n",
       "    </tr>\n",
       "  </thead>\n",
       "  <tbody>\n",
       "    <tr>\n",
       "      <th>0</th>\n",
       "      <td>32.0</td>\n",
       "      <td>9.0</td>\n",
       "      <td>0.9166</td>\n",
       "      <td>0.7938</td>\n",
       "    </tr>\n",
       "    <tr>\n",
       "      <th>1</th>\n",
       "      <td>65.0</td>\n",
       "      <td>12.0</td>\n",
       "      <td>0.91462</td>\n",
       "      <td>0.7926</td>\n",
       "    </tr>\n",
       "    <tr>\n",
       "      <th>2</th>\n",
       "      <td>100.0</td>\n",
       "      <td>12.0</td>\n",
       "      <td>0.94742</td>\n",
       "      <td>0.8</td>\n",
       "    </tr>\n",
       "    <tr>\n",
       "      <th>3</th>\n",
       "      <td>135.0</td>\n",
       "      <td>12.0</td>\n",
       "      <td>0.96232</td>\n",
       "      <td>0.7989</td>\n",
       "    </tr>\n",
       "  </tbody>\n",
       "</table>\n",
       "</div>"
      ],
      "text/plain": [
       "  num_filters num_layers train_acc test_acc\n",
       "0        32.0        9.0    0.9166   0.7938\n",
       "1        65.0       12.0   0.91462   0.7926\n",
       "2       100.0       12.0   0.94742      0.8\n",
       "3       135.0       12.0   0.96232   0.7989"
      ]
     },
     "execution_count": 13,
     "metadata": {},
     "output_type": "execute_result"
    }
   ],
   "source": [
    "for filters in range(65, 136, 35):\n",
    "    res = build_net(X_train,\n",
    "                    X_test,\n",
    "                    y_train, \n",
    "                    n_filters=filters,\n",
    "                    dropout=0.25\n",
    "                   )\n",
    "    compare = compare.append({'num_filters': filters,\n",
    "                              'num_layers': len(res[0].layers),\n",
    "                              'train_acc': res[1].history['accuracy'][-1],\n",
    "                              'test_acc': accuracy_score(y_test.argmax(axis=1), res[2].argmax(axis=1)),\n",
    "                             }, ignore_index=True)\n",
    "compare"
   ]
  },
  {
   "cell_type": "markdown",
   "id": "65d186b5-e1f4-48a3-8b85-166d3ce4cf91",
   "metadata": {},
   "source": [
    "Вывод: если увеличивать количество фильтров, то ощутимо растет метрика точности предсказаний на тренировочном датасете, при этом практически не меняется на тестовом. Очевидно, что слепое увеличение фильтров способствует переобучению сети."
   ]
  },
  {
   "cell_type": "code",
   "execution_count": 14,
   "id": "38b2e848-d24a-4a57-96e6-dd141cc18ec9",
   "metadata": {},
   "outputs": [
    {
     "data": {
      "text/html": [
       "<div>\n",
       "<style scoped>\n",
       "    .dataframe tbody tr th:only-of-type {\n",
       "        vertical-align: middle;\n",
       "    }\n",
       "\n",
       "    .dataframe tbody tr th {\n",
       "        vertical-align: top;\n",
       "    }\n",
       "\n",
       "    .dataframe thead th {\n",
       "        text-align: right;\n",
       "    }\n",
       "</style>\n",
       "<table border=\"1\" class=\"dataframe\">\n",
       "  <thead>\n",
       "    <tr style=\"text-align: right;\">\n",
       "      <th></th>\n",
       "      <th>num_filters</th>\n",
       "      <th>num_layers</th>\n",
       "      <th>train_acc</th>\n",
       "      <th>test_acc</th>\n",
       "    </tr>\n",
       "  </thead>\n",
       "  <tbody>\n",
       "    <tr>\n",
       "      <th>0</th>\n",
       "      <td>32.0</td>\n",
       "      <td>9.0</td>\n",
       "      <td>0.9166</td>\n",
       "      <td>0.7938</td>\n",
       "    </tr>\n",
       "    <tr>\n",
       "      <th>1</th>\n",
       "      <td>65.0</td>\n",
       "      <td>12.0</td>\n",
       "      <td>0.91462</td>\n",
       "      <td>0.7926</td>\n",
       "    </tr>\n",
       "    <tr>\n",
       "      <th>2</th>\n",
       "      <td>100.0</td>\n",
       "      <td>12.0</td>\n",
       "      <td>0.94742</td>\n",
       "      <td>0.8</td>\n",
       "    </tr>\n",
       "    <tr>\n",
       "      <th>3</th>\n",
       "      <td>135.0</td>\n",
       "      <td>12.0</td>\n",
       "      <td>0.96232</td>\n",
       "      <td>0.7989</td>\n",
       "    </tr>\n",
       "    <tr>\n",
       "      <th>4</th>\n",
       "      <td>32.0</td>\n",
       "      <td>12.0</td>\n",
       "      <td>0.91484</td>\n",
       "      <td>0.7912</td>\n",
       "    </tr>\n",
       "    <tr>\n",
       "      <th>5</th>\n",
       "      <td>32.0</td>\n",
       "      <td>15.0</td>\n",
       "      <td>0.88166</td>\n",
       "      <td>0.7988</td>\n",
       "    </tr>\n",
       "    <tr>\n",
       "      <th>6</th>\n",
       "      <td>32.0</td>\n",
       "      <td>17.0</td>\n",
       "      <td>0.8854</td>\n",
       "      <td>0.775</td>\n",
       "    </tr>\n",
       "  </tbody>\n",
       "</table>\n",
       "</div>"
      ],
      "text/plain": [
       "  num_filters num_layers train_acc test_acc\n",
       "0        32.0        9.0    0.9166   0.7938\n",
       "1        65.0       12.0   0.91462   0.7926\n",
       "2       100.0       12.0   0.94742      0.8\n",
       "3       135.0       12.0   0.96232   0.7989\n",
       "4        32.0       12.0   0.91484   0.7912\n",
       "5        32.0       15.0   0.88166   0.7988\n",
       "6        32.0       17.0    0.8854    0.775"
      ]
     },
     "execution_count": 14,
     "metadata": {},
     "output_type": "execute_result"
    }
   ],
   "source": [
    "for layer in range(4, 7, 1):\n",
    "    res = build_net(X_train,\n",
    "                    X_test,\n",
    "                    y_train, \n",
    "                    n_layers=layer,\n",
    "                    dropout=0.25\n",
    "                   )\n",
    "    compare = compare.append({'num_filters': 32,\n",
    "                              'num_layers': len(res[0].layers),\n",
    "                              'train_acc': res[1].history['accuracy'][-1],\n",
    "                              'test_acc': accuracy_score(y_test.argmax(axis=1), res[2].argmax(axis=1)),\n",
    "                             }, ignore_index=True)\n",
    "compare"
   ]
  },
  {
   "cell_type": "markdown",
   "id": "c8db8ad3-1dd9-4a92-bbbc-03d210eae19a",
   "metadata": {},
   "source": [
    "Вывод: увеличение количества слоев привело к минимизации разницы в метриках на тренировочном и тестовом датасетах. Вероятно, что совместно с увеличением количества фильтров возможно будет поднять метрику в-целом."
   ]
  },
  {
   "cell_type": "code",
   "execution_count": 17,
   "id": "351d288b-a8ea-4a94-9816-ae10174c1291",
   "metadata": {},
   "outputs": [],
   "source": [
    "res = build_net(X_train, X_test, y_train, dropout=0.25, cnn=False)"
   ]
  },
  {
   "cell_type": "code",
   "execution_count": 18,
   "id": "8a5e26c1-a23e-4bb6-89c5-f6fab5864ec2",
   "metadata": {},
   "outputs": [
    {
     "data": {
      "text/html": [
       "<div>\n",
       "<style scoped>\n",
       "    .dataframe tbody tr th:only-of-type {\n",
       "        vertical-align: middle;\n",
       "    }\n",
       "\n",
       "    .dataframe tbody tr th {\n",
       "        vertical-align: top;\n",
       "    }\n",
       "\n",
       "    .dataframe thead th {\n",
       "        text-align: right;\n",
       "    }\n",
       "</style>\n",
       "<table border=\"1\" class=\"dataframe\">\n",
       "  <thead>\n",
       "    <tr style=\"text-align: right;\">\n",
       "      <th></th>\n",
       "      <th>num_filters</th>\n",
       "      <th>num_layers</th>\n",
       "      <th>train_acc</th>\n",
       "      <th>test_acc</th>\n",
       "    </tr>\n",
       "  </thead>\n",
       "  <tbody>\n",
       "    <tr>\n",
       "      <th>0</th>\n",
       "      <td>32.0</td>\n",
       "      <td>9.0</td>\n",
       "      <td>0.9166</td>\n",
       "      <td>0.7938</td>\n",
       "    </tr>\n",
       "    <tr>\n",
       "      <th>1</th>\n",
       "      <td>65.0</td>\n",
       "      <td>12.0</td>\n",
       "      <td>0.91462</td>\n",
       "      <td>0.7926</td>\n",
       "    </tr>\n",
       "    <tr>\n",
       "      <th>2</th>\n",
       "      <td>100.0</td>\n",
       "      <td>12.0</td>\n",
       "      <td>0.94742</td>\n",
       "      <td>0.8</td>\n",
       "    </tr>\n",
       "    <tr>\n",
       "      <th>3</th>\n",
       "      <td>135.0</td>\n",
       "      <td>12.0</td>\n",
       "      <td>0.96232</td>\n",
       "      <td>0.7989</td>\n",
       "    </tr>\n",
       "    <tr>\n",
       "      <th>4</th>\n",
       "      <td>32.0</td>\n",
       "      <td>12.0</td>\n",
       "      <td>0.91484</td>\n",
       "      <td>0.7912</td>\n",
       "    </tr>\n",
       "    <tr>\n",
       "      <th>5</th>\n",
       "      <td>32.0</td>\n",
       "      <td>15.0</td>\n",
       "      <td>0.88166</td>\n",
       "      <td>0.7988</td>\n",
       "    </tr>\n",
       "    <tr>\n",
       "      <th>6</th>\n",
       "      <td>32.0</td>\n",
       "      <td>17.0</td>\n",
       "      <td>0.8854</td>\n",
       "      <td>0.775</td>\n",
       "    </tr>\n",
       "    <tr>\n",
       "      <th>7</th>\n",
       "      <td>dense_model</td>\n",
       "      <td>7</td>\n",
       "      <td>0.6094</td>\n",
       "      <td>0.5479</td>\n",
       "    </tr>\n",
       "  </tbody>\n",
       "</table>\n",
       "</div>"
      ],
      "text/plain": [
       "   num_filters num_layers train_acc test_acc\n",
       "0         32.0        9.0    0.9166   0.7938\n",
       "1         65.0       12.0   0.91462   0.7926\n",
       "2        100.0       12.0   0.94742      0.8\n",
       "3        135.0       12.0   0.96232   0.7989\n",
       "4         32.0       12.0   0.91484   0.7912\n",
       "5         32.0       15.0   0.88166   0.7988\n",
       "6         32.0       17.0    0.8854    0.775\n",
       "7  dense_model          7    0.6094   0.5479"
      ]
     },
     "execution_count": 18,
     "metadata": {},
     "output_type": "execute_result"
    }
   ],
   "source": [
    "compare = compare.append({'num_filters': 'dense_model',\n",
    "                          'num_layers': len(res[0].layers),\n",
    "                          'train_acc': res[1].history['accuracy'][-1],\n",
    "                          'test_acc': accuracy_score(y_test.argmax(axis=1), res[2].argmax(axis=1)),\n",
    "                         }, ignore_index=True)\n",
    "compare"
   ]
  },
  {
   "cell_type": "markdown",
   "id": "326cd06f-dada-4bc6-853a-f746de1baa12",
   "metadata": {},
   "source": [
    "Вывод: обычная полносвязная сеть справляется намного хуже с поставленной задачей. Попробуем подобрать параметры для сверточной сети и посмотреть результат. Будем увеличивать поличество фильтров и слоев. Дропаут увеличим до 0.5."
   ]
  },
  {
   "cell_type": "code",
   "execution_count": 35,
   "id": "ba47b4df-1b82-4fde-b9c6-dc2b4db86c0b",
   "metadata": {},
   "outputs": [
    {
     "data": {
      "text/html": [
       "<div>\n",
       "<style scoped>\n",
       "    .dataframe tbody tr th:only-of-type {\n",
       "        vertical-align: middle;\n",
       "    }\n",
       "\n",
       "    .dataframe tbody tr th {\n",
       "        vertical-align: top;\n",
       "    }\n",
       "\n",
       "    .dataframe thead th {\n",
       "        text-align: right;\n",
       "    }\n",
       "</style>\n",
       "<table border=\"1\" class=\"dataframe\">\n",
       "  <thead>\n",
       "    <tr style=\"text-align: right;\">\n",
       "      <th></th>\n",
       "      <th>num_filters</th>\n",
       "      <th>num_layers</th>\n",
       "      <th>train_acc</th>\n",
       "      <th>test_acc</th>\n",
       "    </tr>\n",
       "  </thead>\n",
       "  <tbody>\n",
       "    <tr>\n",
       "      <th>0</th>\n",
       "      <td>32.0</td>\n",
       "      <td>9.0</td>\n",
       "      <td>0.9166</td>\n",
       "      <td>0.7938</td>\n",
       "    </tr>\n",
       "    <tr>\n",
       "      <th>1</th>\n",
       "      <td>65.0</td>\n",
       "      <td>12.0</td>\n",
       "      <td>0.91462</td>\n",
       "      <td>0.7926</td>\n",
       "    </tr>\n",
       "    <tr>\n",
       "      <th>2</th>\n",
       "      <td>100.0</td>\n",
       "      <td>12.0</td>\n",
       "      <td>0.94742</td>\n",
       "      <td>0.8</td>\n",
       "    </tr>\n",
       "    <tr>\n",
       "      <th>3</th>\n",
       "      <td>135.0</td>\n",
       "      <td>12.0</td>\n",
       "      <td>0.96232</td>\n",
       "      <td>0.7989</td>\n",
       "    </tr>\n",
       "    <tr>\n",
       "      <th>4</th>\n",
       "      <td>32.0</td>\n",
       "      <td>12.0</td>\n",
       "      <td>0.91484</td>\n",
       "      <td>0.7912</td>\n",
       "    </tr>\n",
       "    <tr>\n",
       "      <th>5</th>\n",
       "      <td>32.0</td>\n",
       "      <td>15.0</td>\n",
       "      <td>0.88166</td>\n",
       "      <td>0.7988</td>\n",
       "    </tr>\n",
       "    <tr>\n",
       "      <th>6</th>\n",
       "      <td>32.0</td>\n",
       "      <td>17.0</td>\n",
       "      <td>0.8854</td>\n",
       "      <td>0.775</td>\n",
       "    </tr>\n",
       "    <tr>\n",
       "      <th>7</th>\n",
       "      <td>dense_model</td>\n",
       "      <td>7</td>\n",
       "      <td>0.6094</td>\n",
       "      <td>0.5479</td>\n",
       "    </tr>\n",
       "    <tr>\n",
       "      <th>8</th>\n",
       "      <td>150.0</td>\n",
       "      <td>10.0</td>\n",
       "      <td>0.93878</td>\n",
       "      <td>0.7689</td>\n",
       "    </tr>\n",
       "  </tbody>\n",
       "</table>\n",
       "</div>"
      ],
      "text/plain": [
       "   num_filters num_layers train_acc test_acc\n",
       "0         32.0        9.0    0.9166   0.7938\n",
       "1         65.0       12.0   0.91462   0.7926\n",
       "2        100.0       12.0   0.94742      0.8\n",
       "3        135.0       12.0   0.96232   0.7989\n",
       "4         32.0       12.0   0.91484   0.7912\n",
       "5         32.0       15.0   0.88166   0.7988\n",
       "6         32.0       17.0    0.8854    0.775\n",
       "7  dense_model          7    0.6094   0.5479\n",
       "8        150.0       10.0   0.93878   0.7689"
      ]
     },
     "execution_count": 35,
     "metadata": {},
     "output_type": "execute_result"
    }
   ],
   "source": [
    "final_try = build_net(X_train,\n",
    "                      X_test,\n",
    "                      y_train,\n",
    "                      n_filters=150,\n",
    "                      n_layers=10,\n",
    "                      n_epochs=50, \n",
    "                      dropout=0.5\n",
    "                     )\n",
    "compare = compare.append({'num_filters': 150,\n",
    "                          'num_layers': 10,\n",
    "                          'train_acc': final_try[1].history['accuracy'][-1],\n",
    "                          'test_acc': accuracy_score(y_test.argmax(axis=1), final_try[2].argmax(axis=1)),\n",
    "                         }, ignore_index=True)\n",
    "compare"
   ]
  },
  {
   "cell_type": "markdown",
   "id": "fae99350-c7ec-4a76-bc2d-6bee17c4c009",
   "metadata": {},
   "source": [
    "Получилось даже хуже, к сожалению."
   ]
  },
  {
   "cell_type": "code",
   "execution_count": null,
   "id": "207cae18-acae-49b1-80f1-fe375b5772b7",
   "metadata": {},
   "outputs": [],
   "source": []
  }
 ],
 "metadata": {
  "kernelspec": {
   "display_name": "Python 3 (ipykernel)",
   "language": "python",
   "name": "python3"
  },
  "language_info": {
   "codemirror_mode": {
    "name": "ipython",
    "version": 3
   },
   "file_extension": ".py",
   "mimetype": "text/x-python",
   "name": "python",
   "nbconvert_exporter": "python",
   "pygments_lexer": "ipython3",
   "version": "3.9.5"
  }
 },
 "nbformat": 4,
 "nbformat_minor": 5
}
